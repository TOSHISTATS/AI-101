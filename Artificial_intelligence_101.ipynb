{
  "nbformat": 4,
  "nbformat_minor": 0,
  "metadata": {
    "colab": {
      "name": "Artificial intelligence 101.ipynb",
      "version": "0.3.2",
      "provenance": [],
      "private_outputs": true,
      "collapsed_sections": []
    },
    "kernelspec": {
      "display_name": "Python 3",
      "name": "python3"
    }
  },
  "cells": [
    {
      "cell_type": "markdown",
      "metadata": {
        "colab_type": "text",
        "id": "YHI3vyhv5p85"
      },
      "source": [
        "# Artificial intelligence 101"
      ]
    },
    {
      "cell_type": "markdown",
      "metadata": {
        "colab_type": "text",
        "id": "F8YVA_634OFk"
      },
      "source": [
        "摂氏℃から華氏℉に変換するモデルをデータから作成します。このタスクでは正解の数式はすでに既知です。\n",
        "\n",
        "$$ f = c \\times 1.8 + 32 $$\n",
        "\n",
        "\n",
        "ただし、機械学習を使うタスクでは、通常数式は未知の場合がほとんどです。\n"
      ]
    },
    {
      "cell_type": "markdown",
      "metadata": {
        "colab_type": "text",
        "id": "fA93WUy1zzWf"
      },
      "source": [
        "## 1. Import libraries\n"
      ]
    },
    {
      "cell_type": "code",
      "metadata": {
        "colab_type": "code",
        "id": "X9uIpOS2zx7k",
        "colab": {}
      },
      "source": [
        "import tensorflow as tf\n",
        "import numpy as np"
      ],
      "execution_count": 0,
      "outputs": []
    },
    {
      "cell_type": "markdown",
      "metadata": {
        "colab_type": "text",
        "id": "AC3EQFi20buB"
      },
      "source": [
        "## 2. Prepare training data\n",
        "\n"
      ]
    },
    {
      "cell_type": "markdown",
      "metadata": {
        "id": "K5xtJnzNN2S4",
        "colab_type": "text"
      },
      "source": [
        "今回は数式が既知なので、トレーニングデータを作成することが可能です。以下のようにnumpyで、ベクトルで表現したトレーニングデータを用意しました。それぞれの摂氏と華氏のペアのデータが数式を満たしているか確認して下さい。"
      ]
    },
    {
      "cell_type": "code",
      "metadata": {
        "colab_type": "code",
        "id": "gg4pn6aI1vms",
        "colab": {}
      },
      "source": [
        "c   = np.array([-40, -10,  0,  8, 15, 22,  38],  dtype=float)\n",
        "f = np.array([-40,  14, 32, 46, 59, 72, 100],  dtype=float)"
      ],
      "execution_count": 0,
      "outputs": []
    },
    {
      "cell_type": "code",
      "metadata": {
        "id": "2UmE1XlZlrfL",
        "colab_type": "code",
        "colab": {}
      },
      "source": [
        "c"
      ],
      "execution_count": 0,
      "outputs": []
    },
    {
      "cell_type": "code",
      "metadata": {
        "id": "JY0HaaO6ltFU",
        "colab_type": "code",
        "colab": {}
      },
      "source": [
        "f"
      ],
      "execution_count": 0,
      "outputs": []
    },
    {
      "cell_type": "markdown",
      "metadata": {
        "colab_type": "text",
        "id": "wwJGmDrQ0EoB"
      },
      "source": [
        "### 前回の復習\n",
        "\n",
        " - **特徴量（Feature）** — 摂氏\n",
        "\n",
        " - **ラベル (Label）** — 華氏\n",
        " \n",
        " - **Example** —  特徴量とラベルの組み\n",
        "\n"
      ]
    },
    {
      "cell_type": "markdown",
      "metadata": {
        "colab_type": "text",
        "id": "VM7_9Klvq7MO"
      },
      "source": [
        "##3. Create the model\n",
        "\n",
        "\n",
        " tf.kerasを使ってモデルを作成していきます\n",
        "\n",
        "\n",
        "*   `input_shape=[1]` — 　入力がひとつの値であることを示します\n",
        "*   `units=1` — 　この層のユニットが１個であることを示します"
      ]
    },
    {
      "cell_type": "code",
      "metadata": {
        "id": "sjmejulGdXZd",
        "colab_type": "code",
        "colab": {}
      },
      "source": [
        "model = tf.keras.Sequential()\n",
        "\n",
        "model.add(tf.keras.layers.Dense(units=1, input_shape=[1]))"
      ],
      "execution_count": 0,
      "outputs": []
    },
    {
      "cell_type": "markdown",
      "metadata": {
        "id": "UlUx5hQ_RAyx",
        "colab_type": "text"
      },
      "source": [
        " model.summary()を使うとモデルの構造がよくわかります"
      ]
    },
    {
      "cell_type": "code",
      "metadata": {
        "id": "AfWWgew_Q0BG",
        "colab_type": "code",
        "colab": {}
      },
      "source": [
        "model.summary()"
      ],
      "execution_count": 0,
      "outputs": []
    },
    {
      "cell_type": "markdown",
      "metadata": {
        "colab_type": "text",
        "id": "kiZG7uhm8qCF"
      },
      "source": [
        "## 4. Compile and train the model\n",
        "model.compile( )でモデルをコンパイルします\n",
        "\n",
        "- 損失関数　(Loss function)   —  モデルの予測と実際の値（ラベル）との差の合計\n",
        "\n",
        "- 最適化関数　(Optimizer)  —  損失関数を小さくするため, モデルのパラメータ（ウエイト）をupdateする方法"
      ]
    },
    {
      "cell_type": "code",
      "metadata": {
        "colab_type": "code",
        "id": "m8YQN1H41L-Y",
        "colab": {}
      },
      "source": [
        "model.compile(loss='mean_squared_error', optimizer=tf.keras.optimizers.Adam(0.1))"
      ],
      "execution_count": 0,
      "outputs": []
    },
    {
      "cell_type": "markdown",
      "metadata": {
        "id": "AgtqNAhyrGeg",
        "colab_type": "text"
      },
      "source": [
        " model.fitでモデルを訓練します。損失関数が小さくするようにパラメータ（ウエイト）が更新されます"
      ]
    },
    {
      "cell_type": "code",
      "metadata": {
        "colab_type": "code",
        "id": "lpRrl7WK10Pq",
        "colab": {}
      },
      "source": [
        "x_train=c\n",
        "x_label=f\n",
        "\n",
        "history = model.fit(x_train, x_label, epochs=500, verbose=1)\n"
      ],
      "execution_count": 0,
      "outputs": []
    },
    {
      "cell_type": "markdown",
      "metadata": {
        "colab_type": "text",
        "id": "0-QsNCLD4MJZ"
      },
      "source": [
        "## 5. Visualize the training results\n"
      ]
    },
    {
      "cell_type": "markdown",
      "metadata": {
        "id": "a9FhEEX-W_UT",
        "colab_type": "text"
      },
      "source": [
        "matplotlibを使って学習の様子をグラフで可視化できます。"
      ]
    },
    {
      "cell_type": "code",
      "metadata": {
        "id": "HLZ4V1JzfsLX",
        "colab_type": "code",
        "colab": {}
      },
      "source": [
        "import matplotlib.pyplot as plt\n",
        "\n",
        "loss = history.history['loss']\n",
        "epochs = range(len(loss))\n",
        "\n",
        "plt.plot(epochs, loss, label='Training loss')\n",
        "plt.title('Training loss')\n",
        "plt.xlabel('epoch')\n",
        "plt.ylabel('loss')\n",
        "plt.legend()\n",
        "\n",
        "plt.show()"
      ],
      "execution_count": 0,
      "outputs": []
    },
    {
      "cell_type": "markdown",
      "metadata": {
        "colab_type": "text",
        "id": "LtQGDMob5LOD"
      },
      "source": [
        "## 6. Make predictions with the model\n"
      ]
    },
    {
      "cell_type": "markdown",
      "metadata": {
        "id": "3uj8uRENxMzL",
        "colab_type": "text"
      },
      "source": [
        "  model.predict()で予測ができます。　摂氏100度は華氏では何度？"
      ]
    },
    {
      "cell_type": "code",
      "metadata": {
        "colab_type": "code",
        "id": "oxNzL4lS2Gui",
        "colab": {}
      },
      "source": [
        "model.predict([100])"
      ],
      "execution_count": 0,
      "outputs": []
    },
    {
      "cell_type": "markdown",
      "metadata": {
        "colab_type": "text",
        "id": "jApk6tZ1fBg1"
      },
      "source": [
        "正解は $100 \\times 1.8 + 32 = 212$です。モデルによる予測と比較してみましょう。\n",
        "\n",
        "\n",
        "\n"
      ]
    },
    {
      "cell_type": "markdown",
      "metadata": {
        "colab_type": "text",
        "id": "zRrOky5gm20Z"
      },
      "source": [
        "## 7. Obtain the the layer weights\n",
        "\n",
        "データを学習した結果、得られたパラメータ（ウエイト）を表示します"
      ]
    },
    {
      "cell_type": "code",
      "metadata": {
        "id": "Xk4ERd7gzI6j",
        "colab_type": "code",
        "colab": {}
      },
      "source": [
        "model.get_weights()"
      ],
      "execution_count": 0,
      "outputs": []
    },
    {
      "cell_type": "markdown",
      "metadata": {
        "colab_type": "text",
        "id": "RSplSnMvnWC-"
      },
      "source": [
        "w=1.8,  b=32が正解です。モデルはどこまで近づいたでしょうか？"
      ]
    }
  ]
}